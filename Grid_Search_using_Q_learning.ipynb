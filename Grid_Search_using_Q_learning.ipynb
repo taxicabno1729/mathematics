{
  "nbformat": 4,
  "nbformat_minor": 0,
  "metadata": {
    "colab": {
      "provenance": [],
      "authorship_tag": "ABX9TyMxAqvpoyG6P4Q9SjX7yK9E",
      "include_colab_link": true
    },
    "kernelspec": {
      "name": "python3",
      "display_name": "Python 3"
    },
    "language_info": {
      "name": "python"
    }
  },
  "cells": [
    {
      "cell_type": "markdown",
      "metadata": {
        "id": "view-in-github",
        "colab_type": "text"
      },
      "source": [
        "<a href=\"https://colab.research.google.com/github/taxicabno1729/mathematics/blob/main/Grid_Search_using_Q_learning.ipynb\" target=\"_parent\"><img src=\"https://colab.research.google.com/assets/colab-badge.svg\" alt=\"Open In Colab\"/></a>"
      ]
    },
    {
      "cell_type": "markdown",
      "source": [
        "## Find optimal path on a grid to move from a source to destination using Q-learning."
      ],
      "metadata": {
        "id": "D-B1kVlDxtIw"
      }
    },
    {
      "cell_type": "markdown",
      "source": [
        "Given a array grid (mXn) with destination marked as `1`, obstacles as -1, and all other cells with 0, and a starting point at (x,y), find the shortest path to reach destination.\n",
        "\n",
        "P.S. Movements are restricted to only 0 (up), 1(right), 2(down) and 3(left)"
      ],
      "metadata": {
        "id": "B39DaRjd-l2_"
      }
    },
    {
      "cell_type": "markdown",
      "source": [
        "### Initialize parameters.\n",
        "\n"
      ],
      "metadata": {
        "id": "Vbt3NHm59-xm"
      }
    },
    {
      "cell_type": "code",
      "execution_count": 19,
      "metadata": {
        "id": "tCmfBtEMt51-"
      },
      "outputs": [],
      "source": [
        "import numpy as np\n",
        "import random\n",
        "\n",
        "# Define the grid world\n",
        "grid = [\n",
        "    [0, 0, 0, 1],\n",
        "    [0, -1, 0, -1],\n",
        "    [0, 0, 0, 0]\n",
        "]\n",
        "\n",
        "# Define actions\n",
        "# 0: up, 1: right, 2: down, 3: left\n",
        "actions = [0, 1, 2, 3]"
      ]
    },
    {
      "cell_type": "markdown",
      "source": [
        "\n",
        "### Initialize Q Table, create utils for get_next_state and get_reward\n",
        "\n",
        "1. We create a numpy array of mXnXa, where m = rows of grid, n = columns of grid, a = no of actions (4 in our case) and initiate with zeros. This array signifies the reward of each action at each position in the grid. Example, Array[1,2,0] denotes the reward at position 1X2 in the grid for action 0 (moving up).\n",
        "\n",
        "2. A util function which gives us the next position for a certain action. Given as state s and action a, it returns the next state s_.\n",
        "\n",
        "3. Another util function which gives us the reward for each state. Given position mXn on grid, it is 1 if it the destination, -1 if it is an obstacle, and -0.04 as step reward (This is done to incentivize the model to find the shortest path possible, and hence penalize non optimal movement)."
      ],
      "metadata": {
        "id": "jiZ4tUmR-wBS"
      }
    },
    {
      "cell_type": "code",
      "source": [
        "# Initialize Q-table\n",
        "q_table = np.zeros((len(actions), len(grid), len(grid[0])))\n",
        "\n",
        "def get_next_state(state, action):\n",
        "    row, col = state\n",
        "    if action == 0:  # up\n",
        "        row = max(0, row - 1)\n",
        "    elif action == 1:  # right\n",
        "        col = min(len(grid[0]) - 1, col + 1)\n",
        "    elif action == 2:  # down\n",
        "        row = min(len(grid) - 1, row + 1)\n",
        "    elif action == 3:  # left\n",
        "        col = max(0, col - 1)\n",
        "    return (row, col)\n",
        "\n",
        "# Define rewards\n",
        "goal_reward = 1\n",
        "obstacle_reward = -1\n",
        "step_reward = -0.04\n",
        "\n",
        "def get_reward(state):\n",
        "    row, col = state\n",
        "    if grid[row][col] == 1:  # goal\n",
        "        return goal_reward\n",
        "    elif grid[row][col] == -1:  # obstacle\n",
        "        return obstacle_reward\n",
        "    else:\n",
        "        return step_reward\n"
      ],
      "metadata": {
        "id": "v0OiwtNkt7gY"
      },
      "execution_count": 22,
      "outputs": []
    },
    {
      "cell_type": "markdown",
      "source": [
        "### Training the agent"
      ],
      "metadata": {
        "id": "tzorRsrCA1XT"
      }
    },
    {
      "cell_type": "code",
      "source": [
        "# Q-learning parameters\n",
        "learning_rate = 0.1\n",
        "discount_factor = 0.9\n",
        "epsilon = 0.1\n",
        "episodes = 1000\n",
        "\n",
        "for _ in range(episodes):\n",
        "    state = (2, 0)  # starting position\n",
        "    done = False\n",
        "\n",
        "    while not done:\n",
        "        # Epsilon-greedy action selection\n",
        "        if random.uniform(0, 1) < epsilon:\n",
        "            action = random.choice(actions)\n",
        "        else:\n",
        "            action = np.argmax(q_table[:, state[0], state[1]])\n",
        "\n",
        "        next_state = get_next_state(state, action)\n",
        "        reward = get_reward(next_state)\n",
        "\n",
        "        # Q-value update\n",
        "        old_q = q_table[action, state[0], state[1]]\n",
        "        next_max = np.max(q_table[:, next_state[0], next_state[1]])\n",
        "        new_q = (1 - learning_rate) * old_q + learning_rate * (reward + discount_factor * next_max)\n",
        "        q_table[action, state[0], state[1]] = new_q\n",
        "\n",
        "        state = next_state\n",
        "        if reward == goal_reward or reward == obstacle_reward:\n",
        "            done = True"
      ],
      "metadata": {
        "id": "oyb5APDAA2b2"
      },
      "execution_count": 23,
      "outputs": []
    },
    {
      "cell_type": "markdown",
      "source": [
        "### Get Optimal Path"
      ],
      "metadata": {
        "id": "jmT_jg9tBEUx"
      }
    },
    {
      "cell_type": "code",
      "source": [
        "# Function to get the optimal path\n",
        "def get_optimal_path():\n",
        "    state = (2, 0)  # starting position\n",
        "    path = [state]\n",
        "    while grid[state[0]][state[1]] != 1:  # while not at goal\n",
        "        action = np.argmax(q_table[:, state[0], state[1]])\n",
        "        state = get_next_state(state, action)\n",
        "        path.append(state)\n",
        "    return path\n",
        "\n",
        "# Print the optimal path\n",
        "optimal_path = get_optimal_path()\n",
        "print(\"Optimal path:\", optimal_path)\n",
        "\n",
        "# Print the Q-table\n",
        "print(\"\\nQ-table:\")\n",
        "print(q_table)"
      ],
      "metadata": {
        "colab": {
          "base_uri": "https://localhost:8080/"
        },
        "id": "KCkH9PTIBCBY",
        "outputId": "d3ad9176-abed-4935-f33b-917984958dde"
      },
      "execution_count": 25,
      "outputs": [
        {
          "output_type": "stream",
          "name": "stdout",
          "text": [
            "Optimal path: [(2, 0), (2, 1), (2, 2), (1, 2), (0, 2), (0, 3)]\n",
            "\n",
            "Q-table:\n",
            "[[[-0.0157616   0.12295796  0.81930449  0.        ]\n",
            "  [ 0.44669467  0.          0.86        0.        ]\n",
            "  [ 0.2198405  -0.94185026  0.734      -0.19      ]]\n",
            "\n",
            " [[ 0.67444168  0.85679647  1.          0.        ]\n",
            "  [-0.1         0.         -0.89058101  0.        ]\n",
            "  [ 0.51854     0.6206      0.40539268 -0.01540876]]\n",
            "\n",
            " [[-0.01825422 -0.19        0.68657147  0.        ]\n",
            "  [-0.03698888  0.          0.52478401  0.        ]\n",
            "  [ 0.40870494  0.47081168  0.60329639 -0.0118804 ]]\n",
            "\n",
            " [[-0.01945588  0.02494749  0.60024148  0.        ]\n",
            "  [-0.03810421  0.         -0.92023356  0.        ]\n",
            "  [ 0.39860726  0.39671418  0.47610112  0.58982062]]]\n"
          ]
        }
      ]
    },
    {
      "cell_type": "code",
      "source": [
        "import matplotlib.pyplot as plt\n",
        "\n",
        "def plot_grid_and_path(grid, path):\n",
        "  rows = len(grid)\n",
        "  cols = len(grid[0])\n",
        "  grid_plot = [[0 for _ in range(cols)] for _ in range(rows)]\n",
        "\n",
        "  for r in range(rows):\n",
        "    for c in range(cols):\n",
        "      if grid[r][c] == -1:\n",
        "        grid_plot[r][c] = -1 ## Obstacle\n",
        "      elif grid[r][c] == 1:\n",
        "        grid_plot[r][c] = 1 ## Goal\n",
        "\n",
        "  r0, c0 = path[0]\n",
        "  grid_plot[r0][c0] = -2 ## Source\n",
        "\n",
        "  for r, c in path[1:]:\n",
        "    if grid_plot[r][c] != 1:\n",
        "      grid_plot[r][c] = 2 ## Path\n",
        "\n",
        "  fig, ax = plt.subplots()\n",
        "  ax.imshow(grid_plot, cmap='viridis', interpolation='nearest')\n",
        "\n",
        "  for r in range(rows):\n",
        "    for c in range(cols):\n",
        "        if grid_plot[r][c] == -1:\n",
        "            ax.text(c, r, 'X', ha=\"center\", va=\"center\", color=\"white\")\n",
        "        elif grid_plot[r][c] == 1:\n",
        "            ax.text(c, r, 'G', ha=\"center\", va=\"center\", color=\"white\")\n",
        "        elif grid_plot[r][c] == 2:\n",
        "            ax.text(c, r, '*', ha=\"center\", va=\"center\", color=\"white\")\n",
        "        elif grid_plot[r][c] == -2:\n",
        "            ax.text(c, r, 'S', ha=\"center\", va=\"center\", color=\"white\")\n",
        "\n",
        "  ax.set_xticks(np.arange(cols))\n",
        "  ax.set_yticks(np.arange(rows))\n",
        "  ax.set_xticklabels(np.arange(cols))\n",
        "  ax.set_yticklabels(np.arange(rows))\n",
        "  ax.set_xlabel('Columns')\n",
        "  ax.set_ylabel('Rows')\n",
        "  ax.set_title('Grid World with Optimal Path')\n",
        "  plt.show()\n",
        "\n",
        "plot_grid_and_path(grid, optimal_path)\n"
      ],
      "metadata": {
        "colab": {
          "base_uri": "https://localhost:8080/",
          "height": 472
        },
        "id": "nm68bUzcC8b3",
        "outputId": "90e36864-2cbe-4f51-80aa-c9786198d432"
      },
      "execution_count": 17,
      "outputs": [
        {
          "output_type": "display_data",
          "data": {
            "text/plain": [
              "<Figure size 640x480 with 1 Axes>"
            ],
            "image/png": "[encoded data removed]"
          },
          "metadata": {}
        }
      ]
    },
    {
      "cell_type": "code",
      "source": [],
      "metadata": {
        "id": "I-1vVXSBDD0v"
      },
      "execution_count": null,
      "outputs": []
    }
  ]
}